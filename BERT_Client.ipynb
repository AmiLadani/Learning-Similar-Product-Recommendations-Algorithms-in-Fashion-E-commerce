{
  "nbformat": 4,
  "nbformat_minor": 0,
  "metadata": {
    "colab": {
      "name": "BERT Client.ipynb",
      "version": "0.3.2",
      "provenance": [],
      "collapsed_sections": []
    },
    "kernelspec": {
      "name": "python3",
      "display_name": "Python 3"
    },
    "accelerator": "GPU"
  },
  "cells": [
    {
      "cell_type": "code",
      "metadata": {
        "id": "N2SM7mPOhXTf",
        "colab_type": "code",
        "colab": {}
      },
      "source": [
        "import csv"
      ],
      "execution_count": 0,
      "outputs": []
    },
    {
      "cell_type": "code",
      "metadata": {
        "id": "9oje9vRcAcKh",
        "colab_type": "code",
        "colab": {}
      },
      "source": [
        "from google.colab import drive\n",
        "drive.mount('/content/drive/')"
      ],
      "execution_count": 0,
      "outputs": []
    },
    {
      "cell_type": "code",
      "metadata": {
        "id": "H8lTrkliP6c3",
        "colab_type": "code",
        "colab": {}
      },
      "source": [
        "article_dict={}\n",
        "\n",
        "with open(\"/content/drive/My Drive/Colab Notebooks/similarity1.csv\",'r') as d1:\n",
        "    csvreader = csv.reader(d1, delimiter=',')\n",
        "    next(d1, None)\n",
        "\n",
        "    for row in csvreader:\n",
        "      if row[0] not in article_dict:\n",
        "        article_dict[str(row[0])]={}\n",
        "        article_dict[str(row[0])]['season']=str(row[3])\n",
        "        article_dict[str(row[0])]['usage']=str(row[5])\n",
        "        article_dict[str(row[0])]['mrp']=\"mrp_\"+str(row[8])"
      ],
      "execution_count": 0,
      "outputs": []
    },
    {
      "cell_type": "code",
      "metadata": {
        "id": "z5Ime_rIP9Xw",
        "colab_type": "code",
        "colab": {}
      },
      "source": [
        "ids = []\n",
        "description = []\n",
        "with open(\"/content/drive/My Drive/Colab Notebooks/Live_Styles_Myntra.csv\",'r') as d1:\n",
        "    csvreader = csv.reader(d1, delimiter=',')\n",
        "    next(d1, None)\n",
        "\n",
        "    for row in csvreader:\n",
        "      if row[0] not in article_dict:\n",
        "        article_dict[str(row[0])]={}\n",
        "        \n",
        "#       article_dict[str(row[0])]['gender']=str(row[2])\n",
        "#       article_dict[str(row[0])]['businessUnit']=str(row[5])\n",
        "#       article_dict[str(row[0])]['articleType']=str(row[1])\n",
        "      article_dict[str(row[0])]['styleName']=str(row[4])\n",
        "      article_dict[str(row[0])]['description']=str(row[6])\n",
        "      \n",
        "      sentence = \"\"\n",
        "      if 'season' in article_dict[str(row[0])]:\n",
        "        sentence = article_dict[str(row[0])]['season']+\", \"+article_dict[str(row[0])]['usage']+\", \"+article_dict[str(row[0])]['mrp']+\", \"+article_dict[str(row[0])]['styleName']+\", \"+article_dict[str(row[0])]['description']\n",
        "      else:\n",
        "        sentence = article_dict[str(row[0])]['styleName']+\", \"+article_dict[str(row[0])]['description']\n",
        "      if sentence != \"\":\n",
        "        ids.append(str(\"Myntra_\"+row[0]))\n",
        "        description.append(sentence)"
      ],
      "execution_count": 0,
      "outputs": []
    },
    {
      "cell_type": "code",
      "metadata": {
        "id": "NBty65jm6PMM",
        "colab_type": "code",
        "colab": {}
      },
      "source": [
        "!pip install bert-serving-client  # client, independent of `bert-serving-server`\n",
        "from bert_serving.client import BertClient"
      ],
      "execution_count": 0,
      "outputs": []
    },
    {
      "cell_type": "code",
      "metadata": {
        "id": "-g2wsHAqLGD0",
        "colab_type": "code",
        "colab": {}
      },
      "source": [
        "bc = BertClient(output_fmt=\"list\")\n",
        "encoded = bc.encode(description)"
      ],
      "execution_count": 0,
      "outputs": []
    },
    {
      "cell_type": "code",
      "metadata": {
        "id": "K4atCdqznNe1",
        "colab_type": "code",
        "colab": {}
      },
      "source": [
        "for i in range(0,len(messages)):\n",
        "  message_embedding_snippet = \" \".join((str(x) for x in encoded[i]))\n",
        " # print(ids[i].replace(\" \",\"_\")+\" \"+message_embedding_snippet+\"\\n\")"
      ],
      "execution_count": 0,
      "outputs": []
    },
    {
      "cell_type": "code",
      "metadata": {
        "id": "5_xJTcBJnQig",
        "colab_type": "code",
        "colab": {}
      },
      "source": [
        "with open(\"/content/drive/My Drive/Colab Notebooks/BERT_Embeddings_for_shorter_description.txt\",'w') as  f:\n",
        "    f.write(\"18392 768\"+\"\\n\")\n",
        "\n",
        "    messages = description\n",
        "    for i in range(0,len(messages)):\n",
        "        message_embedding_snippet = \" \".join((str(x) for x in encoded[i]))\n",
        "        f.write(ids[i].replace(\" \",\"_\")+\" \"+message_embedding_snippet+\"\\n\")\n",
        "        #print(ids[i].replace(\" \",\"_\")+\" \"+message_embedding_snippet+\"\\n\")"
      ],
      "execution_count": 0,
      "outputs": []
    }
  ]
}