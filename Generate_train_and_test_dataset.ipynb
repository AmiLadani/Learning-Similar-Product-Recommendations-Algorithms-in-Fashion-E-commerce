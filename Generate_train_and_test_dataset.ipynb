{
  "nbformat": 4,
  "nbformat_minor": 0,
  "metadata": {
    "colab": {
      "name": "Generate train and test dataset.ipynb",
      "version": "0.3.2",
      "provenance": [],
      "collapsed_sections": []
    },
    "kernelspec": {
      "name": "python3",
      "display_name": "Python 3"
    },
    "accelerator": "GPU"
  },
  "cells": [
    {
      "cell_type": "code",
      "metadata": {
        "id": "9oje9vRcAcKh",
        "colab_type": "code",
        "colab": {}
      },
      "source": [
        "import csv\n",
        "from google.colab import drive\n",
        "drive.mount('/content/drive/')"
      ],
      "execution_count": 0,
      "outputs": []
    },
    {
      "cell_type": "markdown",
      "metadata": {
        "id": "mfszm3pIR9jJ",
        "colab_type": "text"
      },
      "source": [
        "**Read Dataset**"
      ]
    },
    {
      "cell_type": "code",
      "metadata": {
        "id": "H8lTrkliP6c3",
        "colab_type": "code",
        "colab": {}
      },
      "source": [
        "article_dict={}\n",
        "\n",
        "with open(\"/content/drive/My Drive/Colab Notebooks/similarity1.csv\",'r') as d1:\n",
        "    csvreader = csv.reader(d1, delimiter=',')\n",
        "    next(d1, None)\n",
        "\n",
        "    for row in csvreader:\n",
        "      if row[0] not in article_dict:\n",
        "        article_dict[str(row[0])]={}\n",
        "        article_dict[str(row[0])]['season']=str(row[3])\n",
        "        article_dict[str(row[0])]['usage']=str(row[5])\n",
        "        article_dict[str(row[0])]['mrp']=\"mrp_\"+str(row[8])"
      ],
      "execution_count": 0,
      "outputs": []
    },
    {
      "cell_type": "code",
      "metadata": {
        "id": "z5Ime_rIP9Xw",
        "colab_type": "code",
        "colab": {}
      },
      "source": [
        "ids = []\n",
        "description = []\n",
        "with open(\"/content/drive/My Drive/Colab Notebooks/Live_Styles_Myntra.csv\",'r') as d1:\n",
        "    csvreader = csv.reader(d1, delimiter=',')\n",
        "    next(d1, None)\n",
        "\n",
        "    for row in csvreader:\n",
        "      if row[0] not in article_dict:\n",
        "        article_dict[str(row[0])]={}\n",
        "        \n",
        "#       article_dict[str(row[0])]['gender']=str(row[2])\n",
        "#       article_dict[str(row[0])]['businessUnit']=str(row[5])\n",
        "#       article_dict[str(row[0])]['articleType']=str(row[1])\n",
        "      article_dict[str(row[0])]['styleName']=str(row[4])\n",
        "      article_dict[str(row[0])]['description']=str(row[6])\n",
        "      \n",
        "      sentence = \"\"\n",
        "      if 'season' in article_dict[str(row[0])]:\n",
        "        sentence = article_dict[str(row[0])]['season']+\", \"+article_dict[str(row[0])]['usage']+\", \"+article_dict[str(row[0])]['mrp']+\", \"+article_dict[str(row[0])]['styleName']+\", \"+article_dict[str(row[0])]['description']\n",
        "      else:\n",
        "        sentence = article_dict[str(row[0])]['styleName']+\", \"+article_dict[str(row[0])]['description']\n",
        "      if sentence != \"\":\n",
        "        ids.append(str(\"Myntra_\"+row[0]))\n",
        "        description.append(sentence)\n"
      ],
      "execution_count": 0,
      "outputs": []
    },
    {
      "cell_type": "markdown",
      "metadata": {
        "id": "g0Zl-DtkSvXu",
        "colab_type": "text"
      },
      "source": [
        "**Generate Training Data**"
      ]
    },
    {
      "cell_type": "code",
      "metadata": {
        "id": "fOdYLwyhSz-r",
        "colab_type": "code",
        "colab": {}
      },
      "source": [
        "all_ids=[]\n",
        "with open (\"/content/drive/My Drive/Colab Notebooks/All Results.csv\",'r') as f:\n",
        "    csvreader=csv.reader(f, delimiter=',')\n",
        "    next(f,None)\n",
        "    for row in csvreader:\n",
        "      all_ids.append(row[0])\n",
        "all_ids=all_ids[:12000]"
      ],
      "execution_count": 0,
      "outputs": []
    },
    {
      "cell_type": "code",
      "metadata": {
        "id": "4_rbP_qPCzm3",
        "colab_type": "code",
        "colab": {}
      },
      "source": [
        "from gensim.models import FastText\n",
        "from gensim.models import Word2Vec\n",
        "import sys\n",
        "import csv\n",
        "import nltk\n",
        "from nltk.corpus import stopwords\n",
        "import re\n",
        "import numpy\n",
        "import pickle\n",
        "import multiprocessing\n",
        "import gensim\n",
        "from gensim.models import FastText\n",
        "import numpy as np\n",
        "\n",
        "# read word vectors generated and saved before for all descriotions in input dataset\n",
        "model = gensim.models.KeyedVectors.load_word2vec_format(\"/content/drive/My Drive/Colab Notebooks/BERT_Embeddings_for_shorter_description.txt\")\n",
        "word_vectors = model.wv"
      ],
      "execution_count": 0,
      "outputs": []
    },
    {
      "cell_type": "code",
      "metadata": {
        "id": "qfYYXzo_nCez",
        "colab_type": "code",
        "colab": {}
      },
      "source": [
        "clk_dict={}\n",
        "for i in all_ids:\n",
        "  clk_dict[i]=[]\n",
        "  \n",
        "    \n",
        "with open (\"/content/drive/My Drive/Colab Notebooks/All Results.csv\",'r') as f:\n",
        "    csvreader=csv.reader(f, delimiter=',')\n",
        "    next(f,None)\n",
        "    for row in csvreader:\n",
        "      if row[0] in clk_dict:\n",
        "        clk_dict[row[0]]=row[8].split(\",\")"
      ],
      "execution_count": 0,
      "outputs": []
    },
    {
      "cell_type": "code",
      "metadata": {
        "id": "1hXLjYIzUCrf",
        "colab_type": "code",
        "colab": {}
      },
      "source": [
        "# last 25 articles using untrained BERT\n",
        "with open(\"/content/drive/My Drive/Colab Notebooks/BERT_untrained_last_25_train.csv\",'w') as o_file: \n",
        "  for w in all_ids:\n",
        "    if \"Myntra_\"+w in model.wv:\n",
        "      l = model.most_similar(\"Myntra_\"+w,topn=17000)\n",
        "      i = ids.index(\"Myntra_\"+w)\n",
        "      article=description[i]\n",
        "      query_article= article.split(\",\")[0]\n",
        "      query_gender = article.split(\",\")[1]\n",
        "      count=0\n",
        "      string=\"\"\n",
        "      for item in l[16950:]:\n",
        "        if item[0] in clk_dict[w]:\n",
        "          continue\n",
        "        i = ids.index(item[0])\n",
        "        article=description[i]\n",
        "        result_article = article.split(\",\")[0]\n",
        "        result_gender = article.split(\",\")[1]\n",
        "        if(query_article.strip()!=result_article.strip() or  query_gender.strip()!=result_gender.strip()):\n",
        "          continue\n",
        "        a=item[0]\n",
        "        string +=str(a.split(\"_\")[1])+\",\"\n",
        "        count+=1\n",
        "        if count==25:\n",
        "          break\n",
        "      #print(string)\n",
        "      o_file.write(\"%s\\t%s\\n\" % (\"Myntra_\"+w, string))"
      ],
      "execution_count": 0,
      "outputs": []
    },
    {
      "cell_type": "code",
      "metadata": {
        "id": "QtJzKr8ZIjTa",
        "colab_type": "code",
        "colab": {}
      },
      "source": [
        "last_25={}\n",
        "with open(\"/content/drive/My Drive/Colab Notebooks/BERT_untrained_last_25_train.csv\",'r') as d1:\n",
        "    csvreader = csv.reader(d1, delimiter='\\t')\n",
        "   # next(d1, None)\n",
        "\n",
        "    for row in csvreader:\n",
        "      #print(row)\n",
        "      id1=row[0].split(\"_\")[1]\n",
        "      rest=row[1][:-1].split(\",\")\n",
        "      last_25[id1]=rest"
      ],
      "execution_count": 0,
      "outputs": []
    },
    {
      "cell_type": "code",
      "metadata": {
        "id": "pr76_vsn5_AR",
        "colab_type": "code",
        "colab": {}
      },
      "source": [
        "count=0\n",
        "with open(\"/content/drive/My Drive/Colab Notebooks/dataset/train.tsv\",'w') as o_file: \n",
        "  o_file.write(\"%s\\t%s\\t%s\\t%s\\t%s\\n\" % (\"Quality\",\t\"#1 ID\",\t\"#2 ID\",\t\"#1 String\",\t\"#2 String\"))\n",
        "  for i in all_ids:\n",
        "    l=last_25[i]\n",
        "    if(len(l)==0):\n",
        "      print(\"hi\")\n",
        "    indx = ids.index(\"Myntra_\"+i)\n",
        "    ll=clk_dict[i]\n",
        "    rmv=[]\n",
        "    for j in range(0,len(ll)):\n",
        "      if \"Myntra_\"+ll[j] in ids:\n",
        "        indxx=ids.index(\"Myntra_\"+ll[j])\n",
        "        o_file.write(\"%s\\t%s\\t%s\\t%s\\t%s\\n\" % (\"1\", i, ll[j], description[indx], description[indxx]))\n",
        "        count+=1\n",
        "        #print(\"1\", i, ll[j], description[indx], description[indxx])\n",
        "      else:\n",
        "        rmv.append(ll[j])\n",
        "    for j in range(0,15):\n",
        "      indxx=ids.index(\"Myntra_\"+l[j])\n",
        "      o_file.write(\"%s\\t%s\\t%s\\t%s\\t%s\\n\" % (\"0\", i, l[j], description[indx], description[indxx]))\n",
        "      count+=1\n",
        "      #print(\"0\", i, l[j], description[indx], description[indxx])\n",
        "    for ii in range(0,len(rmv)):\n",
        "      clk_dict[i].remove(rmv[ii])\n",
        " #   break\n",
        "count"
      ],
      "execution_count": 0,
      "outputs": []
    },
    {
      "cell_type": "markdown",
      "metadata": {
        "id": "4eFW4gSNSHdm",
        "colab_type": "text"
      },
      "source": [
        "**Generate Test Data**"
      ]
    },
    {
      "cell_type": "code",
      "metadata": {
        "id": "KKyzWlEycLVm",
        "colab_type": "code",
        "colab": {}
      },
      "source": [
        "all_ids=[]\n",
        "with open (\"/content/drive/My Drive/Colab Notebooks/All Results.csv\",'r') as f:\n",
        "    csvreader=csv.reader(f, delimiter=',')\n",
        "    next(f,None)\n",
        "    for row in csvreader:\n",
        "      all_ids.append(row[0])\n",
        "all_ids=all_ids[12000:]\n",
        "#all_ids=all_ids[:-1]"
      ],
      "execution_count": 0,
      "outputs": []
    },
    {
      "cell_type": "code",
      "metadata": {
        "id": "wSf_ZuN_eCIB",
        "colab_type": "code",
        "colab": {}
      },
      "source": [
        "# top 100 articles using untrained BERT\n",
        "with open(\"/content/drive/My Drive/Colab Notebooks/BERT_untrained_top_100_test.csv\",'w') as o_file: \n",
        "  for w in all_ids:\n",
        "    if \"Myntra_\"+w in model.wv:\n",
        "      l = model.most_similar(\"Myntra_\"+w,topn=150)\n",
        "      i = ids.index(\"Myntra_\"+w)\n",
        "      article=description[i]\n",
        "      query_article= article.split(\",\")[0]\n",
        "      query_gender = article.split(\",\")[1]\n",
        "      count=0\n",
        "      string=\"\"\n",
        "      for item in l:\n",
        "        i = ids.index(item[0])\n",
        "        article=description[i]\n",
        "        result_article = article.split(\",\")[0]\n",
        "        result_gender = article.split(\",\")[1]\n",
        "        if(query_article.strip()!=result_article.strip() or  query_gender.strip()!=result_gender.strip()):\n",
        "          continue\n",
        "        a=item[0]\n",
        "        string +=str(a.split(\"_\")[1])+\",\"\n",
        "        count+=1\n",
        "        if count==100:\n",
        "          break\n",
        "      #print(string)\n",
        "      o_file.write(\"%s\\t%s\\n\" % (\"Myntra_\"+w, string))"
      ],
      "execution_count": 0,
      "outputs": []
    },
    {
      "cell_type": "code",
      "metadata": {
        "id": "RlvA41s5Vbnq",
        "colab_type": "code",
        "colab": {}
      },
      "source": [
        "top_hundred={}\n",
        "with open(\"/content/drive/My Drive/Colab Notebooks/BERT_untrained_top_100_test.csv\",'r') as d1:\n",
        "    csvreader = csv.reader(d1, delimiter='\\t')\n",
        "   # next(d1, None)\n",
        "\n",
        "    for row in csvreader:\n",
        "      #print(row)\n",
        "      id1=row[0].split(\"_\")[1]\n",
        "      rest=row[1][:-1].split(\",\")\n",
        "      top_hundred[id1]=rest"
      ],
      "execution_count": 0,
      "outputs": []
    },
    {
      "cell_type": "code",
      "metadata": {
        "id": "nJIsdPUjW_2A",
        "colab_type": "code",
        "colab": {}
      },
      "source": [
        "with open(\"/content/drive/My Drive/Colab Notebooks/dataset/test.tsv\",'w') as o_file: \n",
        "  o_file.write(\"%s\\t%s\\t%s\\t%s\\t%s\\n\" % (\"Quality\",\t\"#1 ID\",\t\"#2 ID\",\t\"#1 String\",\t\"#2 String\"))\n",
        "  for i in all_ids:\n",
        "    l=top_hundred[i]\n",
        "    if(len(l)==0):\n",
        "      print(\"hi\")\n",
        "    indx = ids.index(\"Myntra_\"+i)\n",
        " #   count=0\n",
        "    print(len(l))\n",
        "    for j in range(0,len(l)):\n",
        "      indxx=ids.index(\"Myntra_\"+l[j])\n",
        "      o_file.write(\"%s\\t%s\\t%s\\t%s\\t%s\\n\" % (\"0\", i, l[j], description[indx], description[indxx]))\n",
        "      count+=1\n"
      ],
      "execution_count": 0,
      "outputs": []
    }
  ]
}