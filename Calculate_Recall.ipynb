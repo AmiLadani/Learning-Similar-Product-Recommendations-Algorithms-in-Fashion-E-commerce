{
  "nbformat": 4,
  "nbformat_minor": 0,
  "metadata": {
    "colab": {
      "name": "Calculate Recall.ipynb",
      "version": "0.3.2",
      "provenance": [],
      "collapsed_sections": []
    },
    "kernelspec": {
      "name": "python3",
      "display_name": "Python 3"
    }
  },
  "cells": [
    {
      "cell_type": "code",
      "metadata": {
        "id": "N2SM7mPOhXTf",
        "colab_type": "code",
        "colab": {}
      },
      "source": [
        "import csv"
      ],
      "execution_count": 0,
      "outputs": []
    },
    {
      "cell_type": "code",
      "metadata": {
        "id": "kbSOU-zbB841",
        "colab_type": "code",
        "colab": {}
      },
      "source": [
        "from google.colab import drive\n",
        "drive.mount('/content/drive/')"
      ],
      "execution_count": 0,
      "outputs": []
    },
    {
      "cell_type": "code",
      "metadata": {
        "id": "KCVELeP7B9qu",
        "colab_type": "code",
        "colab": {}
      },
      "source": [
        "import csv\n",
        "all_ids=[]\n",
        "with open (\"/content/drive/My Drive/Colab Notebooks/All Results.csv\",'r') as f:\n",
        "    csvreader=csv.reader(f, delimiter=',')\n",
        "    next(f,None)\n",
        "    for row in csvreader:\n",
        "      all_ids.append(row[0])\n",
        "all_ids=all_ids[12000:]\n"
      ],
      "execution_count": 0,
      "outputs": []
    },
    {
      "cell_type": "code",
      "metadata": {
        "id": "E-EP1VUfCF9q",
        "colab_type": "code",
        "colab": {}
      },
      "source": [
        "clk_dict={}\n",
        "for i in all_ids:\n",
        "  clk_dict[i]=[]\n",
        "  \n",
        "    \n",
        "with open (\"/content/drive/My Drive/Colab Notebooks/All Results.csv\",'r') as f:\n",
        "    csvreader=csv.reader(f, delimiter=',')\n",
        "    next(f,None)\n",
        "    for row in csvreader:\n",
        "      if row[0] in clk_dict:\n",
        "        clk_dict[row[0]]=row[8].split(\",\")"
      ],
      "execution_count": 0,
      "outputs": []
    },
    {
      "cell_type": "code",
      "metadata": {
        "id": "iwpP1T8UCGAP",
        "colab_type": "code",
        "colab": {}
      },
      "source": [
        "count=0\n",
        "for i in all_ids:\n",
        "  indx = ids.index(\"Myntra_\"+i)\n",
        "  ll=clk_dict[i]\n",
        "  rmv=[]\n",
        "  for j in range(0,len(ll)):\n",
        "    if \"Myntra_\"+ll[j] not in ids:\n",
        "      rmv.append(ll[j])\n",
        "  for ii in range(0,len(rmv)):\n",
        "    clk_dict[i].remove(rmv[ii])\n",
        "  count+=1\n",
        "  print(count)"
      ],
      "execution_count": 0,
      "outputs": []
    },
    {
      "cell_type": "code",
      "metadata": {
        "id": "aQ5oupIzBriA",
        "colab_type": "code",
        "colab": {}
      },
      "source": [
        "id_dict={}\n",
        "for i in all_ids:\n",
        "  id_dict[i]=[]\n",
        "  \n",
        "pred_dict={}\n",
        "for i in all_ids:\n",
        "  pred_dict[i]=[]\n",
        "  \n",
        "with open (\"/content/drive/My Drive/Colab Notebooks/output/test_results.tsv\",'r') as f:\n",
        "    csvreader=csv.reader(f, delimiter='\\t')\n",
        "   # next(f,None)\n",
        "    for row in csvreader:\n",
        "      id1=row[2]\n",
        "      id2=row[3]\n",
        "      if id1!=id2:\n",
        "        if id1 in id_dict:\n",
        "          if id2 not in id_dict[id1]:\n",
        "            if \"Myntra_\"+id2 in ids:\n",
        "              id_dict[id1].append(id2)\n",
        "              pred_dict[id1].append(float(row[0]))\n",
        "        if id2 in id_dict:\n",
        "          if id1 not in id_dict[id2]:\n",
        "            if \"Myntra_\"+id1 in ids:\n",
        "              id_dict[id2].append(id1)\n",
        "              pred_dict[id2].append(float(row[0]))            \n",
        "# print(id_dict)             \n",
        "# print(pred_dict) \n",
        "  \n",
        "for i in id_dict:\n",
        " # print(i)\n",
        "  timestamps=pred_dict[i]\n",
        " # print(timestamps)\n",
        "  htmls=id_dict[i]\n",
        " # print(htmls)\n",
        "  sorted_elems = [elem for i,elem in sorted(enumerate(htmls), \n",
        "                                            key=lambda x:timestamps[x[0]])]\n",
        "#   if(len(sorted_elems)>15):\n",
        "#     id_dict[i]=sorted_elems[:15]\n",
        "#   else:\n",
        "  id_dict[i]=sorted_elems[:15]\n",
        "\n",
        "# print(id_dict)             \n",
        "# print(pred_dict)    \n",
        "            \n",
        "overlap_dict={}\n",
        "avg_recall=0\n",
        "c=0\n",
        "for i in all_ids:\n",
        "  print(i)\n",
        "  print(clk_dict[i])\n",
        "  print(id_dict[i])\n",
        "  overlap_dict[i]=list(set(clk_dict[i]).intersection(set(id_dict[i])))\n",
        "  print(len(overlap_dict[i]))\n",
        "  avg_recall+=len(overlap_dict[i])/len(clk_dict[i])\n",
        " \n",
        "#avg_recall/=len(all_ids)\n"
      ],
      "execution_count": 0,
      "outputs": []
    },
    {
      "cell_type": "code",
      "metadata": {
        "id": "kiBxB4UEC1Re",
        "colab_type": "code",
        "colab": {}
      },
      "source": [
        "avg_recall/=(len(all_ids))"
      ],
      "execution_count": 0,
      "outputs": []
    },
    {
      "cell_type": "code",
      "metadata": {
        "id": "U03WrhGsC321",
        "colab_type": "code",
        "colab": {}
      },
      "source": [
        "avg_recall"
      ],
      "execution_count": 0,
      "outputs": []
    }
  ]
}