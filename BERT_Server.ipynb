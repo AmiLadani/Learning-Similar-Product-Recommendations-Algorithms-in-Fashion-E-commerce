{
  "nbformat": 4,
  "nbformat_minor": 0,
  "metadata": {
    "colab": {
      "name": "BERT Server.ipynb",
      "version": "0.3.2",
      "provenance": []
    },
    "kernelspec": {
      "name": "python3",
      "display_name": "Python 3"
    },
    "accelerator": "GPU"
  },
  "cells": [
    {
      "cell_type": "code",
      "metadata": {
        "id": "De77v5T45GbO",
        "colab_type": "code",
        "colab": {}
      },
      "source": [
        "!pip install bert-serving-server  # server"
      ],
      "execution_count": 0,
      "outputs": []
    },
    {
      "cell_type": "code",
      "metadata": {
        "id": "2PfAY28o5mu_",
        "colab_type": "code",
        "colab": {}
      },
      "source": [
        "from google.colab import drive\n",
        "drive.mount('/content/drive/')"
      ],
      "execution_count": 0,
      "outputs": []
    },
    {
      "cell_type": "code",
      "metadata": {
        "id": "LLyzoRXc6BPv",
        "colab_type": "code",
        "colab": {}
      },
      "source": [
        "!bert-serving-start -model_dir /content/drive/My\\ Drive/Colab\\ Notebooks/uncased_L-12_H-768_A-12 -num_worker=1"
      ],
      "execution_count": 0,
      "outputs": []
    },
    {
      "cell_type": "markdown",
      "metadata": {
        "id": "qizA0H07L2bc",
        "colab_type": "text"
      },
      "source": [
        ""
      ]
    }
  ]
}