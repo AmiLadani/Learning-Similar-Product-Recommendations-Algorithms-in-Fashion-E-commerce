{
  "nbformat": 4,
  "nbformat_minor": 0,
  "metadata": {
    "colab": {
      "name": "BERT MRPC Classifier.ipynb",
      "version": "0.3.2",
      "provenance": [],
      "collapsed_sections": []
    },
    "kernelspec": {
      "name": "python3",
      "display_name": "Python 3"
    }
  },
  "cells": [
    {
      "cell_type": "code",
      "metadata": {
        "id": "GbvFMNotIG7Q",
        "colab_type": "code",
        "colab": {}
      },
      "source": [
        "from google.colab import drive\n",
        "drive.mount('/content/drive/')"
      ],
      "execution_count": 0,
      "outputs": []
    },
    {
      "cell_type": "code",
      "metadata": {
        "id": "7IqEcCSslc3D",
        "colab_type": "code",
        "colab": {}
      },
      "source": [
        "# shuffle training data\n",
        "from random import shuffle\n",
        "\n",
        "with open('/content/drive/My Drive/Colab Notebooks/data/test.tsv','r') as ip:\n",
        "  data=ip.readlines()\n",
        "header, rest=data[0], data[1:]\n",
        "shuffle(rest)\n",
        "with open('/content/drive/My Drive/Colab Notebooks/data/test.tsv','w') as out:\n",
        "  out.write(''.join([header]+rest))\n",
        "\n",
        "# shuffle test data\n",
        "with open('/content/drive/My Drive/Colab Notebooks/data/train.tsv','r') as ip:\n",
        "  data=ip.readlines()\n",
        "header, rest=data[0], data[1:]\n",
        "shuffle(rest)\n",
        "with open('/content/drive/My Drive/Colab Notebooks/data/train.tsv','w') as out:\n",
        "  out.write(''.join([header]+rest))"
      ],
      "execution_count": 0,
      "outputs": []
    },
    {
      "cell_type": "code",
      "metadata": {
        "id": "H0m0kivHHTKU",
        "colab_type": "code",
        "colab": {}
      },
      "source": [
        "# train and test BERT MRPC classifier\n",
        "!python /content/drive/My\\ Drive/Colab\\ Notebooks/bert-master/run_classifier.py \\\n",
        "  --task_name=MRPC \\\n",
        "  --do_train=true \\\n",
        "  --do_eval=false \\\n",
        "  --data_dir=/content/drive/My\\ Drive/Colab\\ Notebooks/data/ \\\n",
        "  --vocab_file=/content/drive/My\\ Drive/Colab\\ Notebooks/uncased_L-12_H-768_A-12/vocab.txt \\\n",
        "  --bert_config_file=/content/drive/My\\ Drive/Colab\\ Notebooks/uncased_L-12_H-768_A-12/bert_config.json \\\n",
        "  --init_checkpoint=/content/drive/My\\ Drive/Colab\\ Notebooks/uncased_L-12_H-768_A-12/bert_model.ckpt\\\n",
        "  --max_seq_length=128 \\\n",
        "  --train_batch_size=32 \\\n",
        "  --learning_rate=2e-5 \\\n",
        "  --num_train_epochs=3.0 \\\n",
        "  --do_predict=true \\\n",
        "  --output_dir=/content/drive/My\\ Drive/Colab\\ Notebooks/output/"
      ],
      "execution_count": 0,
      "outputs": []
    }
  ]
}